{
  "cells": [
    {
      "cell_type": "markdown",
      "metadata": {
        "id": "view-in-github",
        "colab_type": "text"
      },
      "source": [
        "<a href=\"https://colab.research.google.com/github/carlosvalerioh/33-js-concepts/blob/master/ytvtranscriptionwhisperdemo.ipynb\" target=\"_parent\"><img src=\"https://colab.research.google.com/assets/colab-badge.svg\" alt=\"Open In Colab\"/></a>"
      ]
    },
    {
      "cell_type": "code",
      "source": [
        "!pip install pytube"
      ],
      "metadata": {
        "id": "MRB4prIxFQvD",
        "outputId": "af700fbc-1ec3-49fe-f780-dd1a5fe8c13e",
        "colab": {
          "base_uri": "https://localhost:8080/"
        }
      },
      "execution_count": 1,
      "outputs": [
        {
          "output_type": "stream",
          "name": "stdout",
          "text": [
            "Looking in indexes: https://pypi.org/simple, https://us-python.pkg.dev/colab-wheels/public/simple/\n",
            "Collecting pytube\n",
            "  Downloading pytube-15.0.0-py3-none-any.whl (57 kB)\n",
            "\u001b[2K     \u001b[90m━━━━━━━━━━━━━━━━━━━━━━━━━━━━━━━━━━━━━━━━\u001b[0m \u001b[32m57.6/57.6 kB\u001b[0m \u001b[31m5.9 MB/s\u001b[0m eta \u001b[36m0:00:00\u001b[0m\n",
            "\u001b[?25hInstalling collected packages: pytube\n",
            "Successfully installed pytube-15.0.0\n"
          ]
        }
      ]
    },
    {
      "cell_type": "code",
      "execution_count": 2,
      "metadata": {
        "id": "1THkEoXiFGqC"
      },
      "outputs": [],
      "source": [
        "from pytube import YouTube"
      ]
    },
    {
      "cell_type": "code",
      "execution_count": 3,
      "metadata": {
        "id": "QxVAiYThFGqE"
      },
      "outputs": [],
      "source": [
        "link='https://www.youtube.com/watch?v=WXBK0d6280Q'"
      ]
    },
    {
      "cell_type": "code",
      "execution_count": 7,
      "metadata": {
        "id": "cgzjYcmBFGqE"
      },
      "outputs": [],
      "source": [
        "try:\n",
        "    # object creation using YouTube\n",
        "    # which was imported in the beginning\n",
        "    yt = YouTube(link)\n",
        "except:\n",
        "    print(\"Connection Error\")"
      ]
    },
    {
      "cell_type": "code",
      "execution_count": 13,
      "metadata": {
        "id": "ibA2bGLuFGqF",
        "outputId": "3bcef71b-9bdd-4956-c493-1e17027621da",
        "colab": {
          "base_uri": "https://localhost:8080/",
          "height": 443
        }
      },
      "outputs": [
        {
          "output_type": "error",
          "ename": "RegexMatchError",
          "evalue": "ignored",
          "traceback": [
            "\u001b[0;31m---------------------------------------------------------------------------\u001b[0m",
            "\u001b[0;31mRegexMatchError\u001b[0m                           Traceback (most recent call last)",
            "\u001b[0;32m/usr/local/lib/python3.10/dist-packages/pytube/__main__.py\u001b[0m in \u001b[0;36mfmt_streams\u001b[0;34m(self)\u001b[0m\n\u001b[1;32m    180\u001b[0m         \u001b[0;32mtry\u001b[0m\u001b[0;34m:\u001b[0m\u001b[0;34m\u001b[0m\u001b[0;34m\u001b[0m\u001b[0m\n\u001b[0;32m--> 181\u001b[0;31m             \u001b[0mextract\u001b[0m\u001b[0;34m.\u001b[0m\u001b[0mapply_signature\u001b[0m\u001b[0;34m(\u001b[0m\u001b[0mstream_manifest\u001b[0m\u001b[0;34m,\u001b[0m \u001b[0mself\u001b[0m\u001b[0;34m.\u001b[0m\u001b[0mvid_info\u001b[0m\u001b[0;34m,\u001b[0m \u001b[0mself\u001b[0m\u001b[0;34m.\u001b[0m\u001b[0mjs\u001b[0m\u001b[0;34m)\u001b[0m\u001b[0;34m\u001b[0m\u001b[0;34m\u001b[0m\u001b[0m\n\u001b[0m\u001b[1;32m    182\u001b[0m         \u001b[0;32mexcept\u001b[0m \u001b[0mexceptions\u001b[0m\u001b[0;34m.\u001b[0m\u001b[0mExtractError\u001b[0m\u001b[0;34m:\u001b[0m\u001b[0;34m\u001b[0m\u001b[0;34m\u001b[0m\u001b[0m\n",
            "\u001b[0;32m/usr/local/lib/python3.10/dist-packages/pytube/extract.py\u001b[0m in \u001b[0;36mapply_signature\u001b[0;34m(stream_manifest, vid_info, js)\u001b[0m\n\u001b[1;32m    408\u001b[0m     \"\"\"\n\u001b[0;32m--> 409\u001b[0;31m     \u001b[0mcipher\u001b[0m \u001b[0;34m=\u001b[0m \u001b[0mCipher\u001b[0m\u001b[0;34m(\u001b[0m\u001b[0mjs\u001b[0m\u001b[0;34m=\u001b[0m\u001b[0mjs\u001b[0m\u001b[0;34m)\u001b[0m\u001b[0;34m\u001b[0m\u001b[0;34m\u001b[0m\u001b[0m\n\u001b[0m\u001b[1;32m    410\u001b[0m \u001b[0;34m\u001b[0m\u001b[0m\n",
            "\u001b[0;32m/usr/local/lib/python3.10/dist-packages/pytube/cipher.py\u001b[0m in \u001b[0;36m__init__\u001b[0;34m(self, js)\u001b[0m\n\u001b[1;32m     42\u001b[0m \u001b[0;34m\u001b[0m\u001b[0m\n\u001b[0;32m---> 43\u001b[0;31m         \u001b[0mself\u001b[0m\u001b[0;34m.\u001b[0m\u001b[0mthrottling_plan\u001b[0m \u001b[0;34m=\u001b[0m \u001b[0mget_throttling_plan\u001b[0m\u001b[0;34m(\u001b[0m\u001b[0mjs\u001b[0m\u001b[0;34m)\u001b[0m\u001b[0;34m\u001b[0m\u001b[0;34m\u001b[0m\u001b[0m\n\u001b[0m\u001b[1;32m     44\u001b[0m         \u001b[0mself\u001b[0m\u001b[0;34m.\u001b[0m\u001b[0mthrottling_array\u001b[0m \u001b[0;34m=\u001b[0m \u001b[0mget_throttling_function_array\u001b[0m\u001b[0;34m(\u001b[0m\u001b[0mjs\u001b[0m\u001b[0;34m)\u001b[0m\u001b[0;34m\u001b[0m\u001b[0;34m\u001b[0m\u001b[0m\n",
            "\u001b[0;32m/usr/local/lib/python3.10/dist-packages/pytube/cipher.py\u001b[0m in \u001b[0;36mget_throttling_plan\u001b[0;34m(js)\u001b[0m\n\u001b[1;32m    404\u001b[0m     \"\"\"\n\u001b[0;32m--> 405\u001b[0;31m     \u001b[0mraw_code\u001b[0m \u001b[0;34m=\u001b[0m \u001b[0mget_throttling_function_code\u001b[0m\u001b[0;34m(\u001b[0m\u001b[0mjs\u001b[0m\u001b[0;34m)\u001b[0m\u001b[0;34m\u001b[0m\u001b[0;34m\u001b[0m\u001b[0m\n\u001b[0m\u001b[1;32m    406\u001b[0m \u001b[0;34m\u001b[0m\u001b[0m\n",
            "\u001b[0;32m/usr/local/lib/python3.10/dist-packages/pytube/cipher.py\u001b[0m in \u001b[0;36mget_throttling_function_code\u001b[0;34m(js)\u001b[0m\n\u001b[1;32m    310\u001b[0m     \u001b[0;31m# Begin by extracting the correct function name\u001b[0m\u001b[0;34m\u001b[0m\u001b[0;34m\u001b[0m\u001b[0m\n\u001b[0;32m--> 311\u001b[0;31m     \u001b[0mname\u001b[0m \u001b[0;34m=\u001b[0m \u001b[0mre\u001b[0m\u001b[0;34m.\u001b[0m\u001b[0mescape\u001b[0m\u001b[0;34m(\u001b[0m\u001b[0mget_throttling_function_name\u001b[0m\u001b[0;34m(\u001b[0m\u001b[0mjs\u001b[0m\u001b[0;34m)\u001b[0m\u001b[0;34m)\u001b[0m\u001b[0;34m\u001b[0m\u001b[0;34m\u001b[0m\u001b[0m\n\u001b[0m\u001b[1;32m    312\u001b[0m \u001b[0;34m\u001b[0m\u001b[0m\n",
            "\u001b[0;32m/usr/local/lib/python3.10/dist-packages/pytube/cipher.py\u001b[0m in \u001b[0;36mget_throttling_function_name\u001b[0;34m(js)\u001b[0m\n\u001b[1;32m    295\u001b[0m \u001b[0;34m\u001b[0m\u001b[0m\n\u001b[0;32m--> 296\u001b[0;31m     raise RegexMatchError(\n\u001b[0m\u001b[1;32m    297\u001b[0m         \u001b[0mcaller\u001b[0m\u001b[0;34m=\u001b[0m\u001b[0;34m\"get_throttling_function_name\"\u001b[0m\u001b[0;34m,\u001b[0m \u001b[0mpattern\u001b[0m\u001b[0;34m=\u001b[0m\u001b[0;34m\"multiple\"\u001b[0m\u001b[0;34m\u001b[0m\u001b[0;34m\u001b[0m\u001b[0m\n",
            "\u001b[0;31mRegexMatchError\u001b[0m: get_throttling_function_name: could not find match for multiple",
            "\nDuring handling of the above exception, another exception occurred:\n",
            "\u001b[0;31mRegexMatchError\u001b[0m                           Traceback (most recent call last)",
            "\u001b[0;32m<ipython-input-13-644174de2649>\u001b[0m in \u001b[0;36m<cell line: 1>\u001b[0;34m()\u001b[0m\n\u001b[0;32m----> 1\u001b[0;31m \u001b[0myt\u001b[0m\u001b[0;34m.\u001b[0m\u001b[0mstreams\u001b[0m\u001b[0;34m.\u001b[0m\u001b[0mfilter\u001b[0m\u001b[0;34m(\u001b[0m\u001b[0mfile_extension\u001b[0m\u001b[0;34m=\u001b[0m\u001b[0;34m'mp4'\u001b[0m\u001b[0;34m)\u001b[0m\u001b[0;34m\u001b[0m\u001b[0;34m\u001b[0m\u001b[0m\n\u001b[0m",
            "\u001b[0;32m/usr/local/lib/python3.10/dist-packages/pytube/__main__.py\u001b[0m in \u001b[0;36mstreams\u001b[0;34m(self)\u001b[0m\n\u001b[1;32m    294\u001b[0m         \"\"\"\n\u001b[1;32m    295\u001b[0m         \u001b[0mself\u001b[0m\u001b[0;34m.\u001b[0m\u001b[0mcheck_availability\u001b[0m\u001b[0;34m(\u001b[0m\u001b[0;34m)\u001b[0m\u001b[0;34m\u001b[0m\u001b[0;34m\u001b[0m\u001b[0m\n\u001b[0;32m--> 296\u001b[0;31m         \u001b[0;32mreturn\u001b[0m \u001b[0mStreamQuery\u001b[0m\u001b[0;34m(\u001b[0m\u001b[0mself\u001b[0m\u001b[0;34m.\u001b[0m\u001b[0mfmt_streams\u001b[0m\u001b[0;34m)\u001b[0m\u001b[0;34m\u001b[0m\u001b[0;34m\u001b[0m\u001b[0m\n\u001b[0m\u001b[1;32m    297\u001b[0m \u001b[0;34m\u001b[0m\u001b[0m\n\u001b[1;32m    298\u001b[0m     \u001b[0;34m@\u001b[0m\u001b[0mproperty\u001b[0m\u001b[0;34m\u001b[0m\u001b[0;34m\u001b[0m\u001b[0m\n",
            "\u001b[0;32m/usr/local/lib/python3.10/dist-packages/pytube/__main__.py\u001b[0m in \u001b[0;36mfmt_streams\u001b[0;34m(self)\u001b[0m\n\u001b[1;32m    186\u001b[0m             \u001b[0mpytube\u001b[0m\u001b[0;34m.\u001b[0m\u001b[0m__js__\u001b[0m \u001b[0;34m=\u001b[0m \u001b[0;32mNone\u001b[0m\u001b[0;34m\u001b[0m\u001b[0;34m\u001b[0m\u001b[0m\n\u001b[1;32m    187\u001b[0m             \u001b[0mpytube\u001b[0m\u001b[0;34m.\u001b[0m\u001b[0m__js_url__\u001b[0m \u001b[0;34m=\u001b[0m \u001b[0;32mNone\u001b[0m\u001b[0;34m\u001b[0m\u001b[0;34m\u001b[0m\u001b[0m\n\u001b[0;32m--> 188\u001b[0;31m             \u001b[0mextract\u001b[0m\u001b[0;34m.\u001b[0m\u001b[0mapply_signature\u001b[0m\u001b[0;34m(\u001b[0m\u001b[0mstream_manifest\u001b[0m\u001b[0;34m,\u001b[0m \u001b[0mself\u001b[0m\u001b[0;34m.\u001b[0m\u001b[0mvid_info\u001b[0m\u001b[0;34m,\u001b[0m \u001b[0mself\u001b[0m\u001b[0;34m.\u001b[0m\u001b[0mjs\u001b[0m\u001b[0;34m)\u001b[0m\u001b[0;34m\u001b[0m\u001b[0;34m\u001b[0m\u001b[0m\n\u001b[0m\u001b[1;32m    189\u001b[0m \u001b[0;34m\u001b[0m\u001b[0m\n\u001b[1;32m    190\u001b[0m         \u001b[0;31m# build instances of :class:`Stream <Stream>`\u001b[0m\u001b[0;34m\u001b[0m\u001b[0;34m\u001b[0m\u001b[0m\n",
            "\u001b[0;32m/usr/local/lib/python3.10/dist-packages/pytube/extract.py\u001b[0m in \u001b[0;36mapply_signature\u001b[0;34m(stream_manifest, vid_info, js)\u001b[0m\n\u001b[1;32m    407\u001b[0m \u001b[0;34m\u001b[0m\u001b[0m\n\u001b[1;32m    408\u001b[0m     \"\"\"\n\u001b[0;32m--> 409\u001b[0;31m     \u001b[0mcipher\u001b[0m \u001b[0;34m=\u001b[0m \u001b[0mCipher\u001b[0m\u001b[0;34m(\u001b[0m\u001b[0mjs\u001b[0m\u001b[0;34m=\u001b[0m\u001b[0mjs\u001b[0m\u001b[0;34m)\u001b[0m\u001b[0;34m\u001b[0m\u001b[0;34m\u001b[0m\u001b[0m\n\u001b[0m\u001b[1;32m    410\u001b[0m \u001b[0;34m\u001b[0m\u001b[0m\n\u001b[1;32m    411\u001b[0m     \u001b[0;32mfor\u001b[0m \u001b[0mi\u001b[0m\u001b[0;34m,\u001b[0m \u001b[0mstream\u001b[0m \u001b[0;32min\u001b[0m \u001b[0menumerate\u001b[0m\u001b[0;34m(\u001b[0m\u001b[0mstream_manifest\u001b[0m\u001b[0;34m)\u001b[0m\u001b[0;34m:\u001b[0m\u001b[0;34m\u001b[0m\u001b[0;34m\u001b[0m\u001b[0m\n",
            "\u001b[0;32m/usr/local/lib/python3.10/dist-packages/pytube/cipher.py\u001b[0m in \u001b[0;36m__init__\u001b[0;34m(self, js)\u001b[0m\n\u001b[1;32m     41\u001b[0m         ]\n\u001b[1;32m     42\u001b[0m \u001b[0;34m\u001b[0m\u001b[0m\n\u001b[0;32m---> 43\u001b[0;31m         \u001b[0mself\u001b[0m\u001b[0;34m.\u001b[0m\u001b[0mthrottling_plan\u001b[0m \u001b[0;34m=\u001b[0m \u001b[0mget_throttling_plan\u001b[0m\u001b[0;34m(\u001b[0m\u001b[0mjs\u001b[0m\u001b[0;34m)\u001b[0m\u001b[0;34m\u001b[0m\u001b[0;34m\u001b[0m\u001b[0m\n\u001b[0m\u001b[1;32m     44\u001b[0m         \u001b[0mself\u001b[0m\u001b[0;34m.\u001b[0m\u001b[0mthrottling_array\u001b[0m \u001b[0;34m=\u001b[0m \u001b[0mget_throttling_function_array\u001b[0m\u001b[0;34m(\u001b[0m\u001b[0mjs\u001b[0m\u001b[0;34m)\u001b[0m\u001b[0;34m\u001b[0m\u001b[0;34m\u001b[0m\u001b[0m\n\u001b[1;32m     45\u001b[0m \u001b[0;34m\u001b[0m\u001b[0m\n",
            "\u001b[0;32m/usr/local/lib/python3.10/dist-packages/pytube/cipher.py\u001b[0m in \u001b[0;36mget_throttling_plan\u001b[0;34m(js)\u001b[0m\n\u001b[1;32m    403\u001b[0m         \u001b[0mThe\u001b[0m \u001b[0mfull\u001b[0m \u001b[0mfunction\u001b[0m \u001b[0mcode\u001b[0m \u001b[0;32mfor\u001b[0m \u001b[0mcomputing\u001b[0m \u001b[0mthe\u001b[0m \u001b[0mthrottlign\u001b[0m \u001b[0mparameter\u001b[0m\u001b[0;34m.\u001b[0m\u001b[0;34m\u001b[0m\u001b[0;34m\u001b[0m\u001b[0m\n\u001b[1;32m    404\u001b[0m     \"\"\"\n\u001b[0;32m--> 405\u001b[0;31m     \u001b[0mraw_code\u001b[0m \u001b[0;34m=\u001b[0m \u001b[0mget_throttling_function_code\u001b[0m\u001b[0;34m(\u001b[0m\u001b[0mjs\u001b[0m\u001b[0;34m)\u001b[0m\u001b[0;34m\u001b[0m\u001b[0;34m\u001b[0m\u001b[0m\n\u001b[0m\u001b[1;32m    406\u001b[0m \u001b[0;34m\u001b[0m\u001b[0m\n\u001b[1;32m    407\u001b[0m     \u001b[0mtransform_start\u001b[0m \u001b[0;34m=\u001b[0m \u001b[0;34mr\"try{\"\u001b[0m\u001b[0;34m\u001b[0m\u001b[0;34m\u001b[0m\u001b[0m\n",
            "\u001b[0;32m/usr/local/lib/python3.10/dist-packages/pytube/cipher.py\u001b[0m in \u001b[0;36mget_throttling_function_code\u001b[0;34m(js)\u001b[0m\n\u001b[1;32m    309\u001b[0m     \"\"\"\n\u001b[1;32m    310\u001b[0m     \u001b[0;31m# Begin by extracting the correct function name\u001b[0m\u001b[0;34m\u001b[0m\u001b[0;34m\u001b[0m\u001b[0m\n\u001b[0;32m--> 311\u001b[0;31m     \u001b[0mname\u001b[0m \u001b[0;34m=\u001b[0m \u001b[0mre\u001b[0m\u001b[0;34m.\u001b[0m\u001b[0mescape\u001b[0m\u001b[0;34m(\u001b[0m\u001b[0mget_throttling_function_name\u001b[0m\u001b[0;34m(\u001b[0m\u001b[0mjs\u001b[0m\u001b[0;34m)\u001b[0m\u001b[0;34m)\u001b[0m\u001b[0;34m\u001b[0m\u001b[0;34m\u001b[0m\u001b[0m\n\u001b[0m\u001b[1;32m    312\u001b[0m \u001b[0;34m\u001b[0m\u001b[0m\n\u001b[1;32m    313\u001b[0m     \u001b[0;31m# Identify where the function is defined\u001b[0m\u001b[0;34m\u001b[0m\u001b[0;34m\u001b[0m\u001b[0m\n",
            "\u001b[0;32m/usr/local/lib/python3.10/dist-packages/pytube/cipher.py\u001b[0m in \u001b[0;36mget_throttling_function_name\u001b[0;34m(js)\u001b[0m\n\u001b[1;32m    294\u001b[0m                     \u001b[0;32mreturn\u001b[0m \u001b[0marray\u001b[0m\u001b[0;34m[\u001b[0m\u001b[0mint\u001b[0m\u001b[0;34m(\u001b[0m\u001b[0midx\u001b[0m\u001b[0;34m)\u001b[0m\u001b[0;34m]\u001b[0m\u001b[0;34m\u001b[0m\u001b[0;34m\u001b[0m\u001b[0m\n\u001b[1;32m    295\u001b[0m \u001b[0;34m\u001b[0m\u001b[0m\n\u001b[0;32m--> 296\u001b[0;31m     raise RegexMatchError(\n\u001b[0m\u001b[1;32m    297\u001b[0m         \u001b[0mcaller\u001b[0m\u001b[0;34m=\u001b[0m\u001b[0;34m\"get_throttling_function_name\"\u001b[0m\u001b[0;34m,\u001b[0m \u001b[0mpattern\u001b[0m\u001b[0;34m=\u001b[0m\u001b[0;34m\"multiple\"\u001b[0m\u001b[0;34m\u001b[0m\u001b[0;34m\u001b[0m\u001b[0m\n\u001b[1;32m    298\u001b[0m     )\n",
            "\u001b[0;31mRegexMatchError\u001b[0m: get_throttling_function_name: could not find match for multiple"
          ]
        }
      ],
      "source": [
        " yt.streams.filter(file_extension='mp4')"
      ]
    },
    {
      "cell_type": "code",
      "execution_count": null,
      "metadata": {
        "id": "_mj3iS5eFGqF"
      },
      "outputs": [],
      "source": [
        "stream = yt.streams.get_by_itag(139)"
      ]
    },
    {
      "cell_type": "code",
      "execution_count": null,
      "metadata": {
        "id": "EBbeebEZFGqG",
        "outputId": "d6f3e1ba-55c4-4803-ad3c-5fb2967ad1a2",
        "colab": {
          "base_uri": "https://localhost:8080/",
          "height": 35
        }
      },
      "outputs": [
        {
          "output_type": "execute_result",
          "data": {
            "text/plain": [
              "'/content/GoogleImagen.mp4'"
            ],
            "application/vnd.google.colaboratory.intrinsic+json": {
              "type": "string"
            }
          },
          "metadata": {},
          "execution_count": 7
        }
      ],
      "source": [
        "\n",
        "stream.download('',\"GoogleImagen.mp4\")"
      ]
    },
    {
      "cell_type": "code",
      "source": [
        "! pip install git+https://github.com/openai/whisper.git\n",
        "! pip install jiwer"
      ],
      "metadata": {
        "colab": {
          "base_uri": "https://localhost:8080/"
        },
        "id": "ZPXSgQWQJwX0",
        "outputId": "d7bd497b-b089-4563-a570-82b6c84ac1dc"
      },
      "execution_count": null,
      "outputs": [
        {
          "output_type": "stream",
          "name": "stdout",
          "text": [
            "Looking in indexes: https://pypi.org/simple, https://us-python.pkg.dev/colab-wheels/public/simple/\n",
            "Collecting git+https://github.com/openai/whisper.git\n",
            "  Cloning https://github.com/openai/whisper.git to /tmp/pip-req-build-mo593qgn\n",
            "  Running command git clone --filter=blob:none --quiet https://github.com/openai/whisper.git /tmp/pip-req-build-mo593qgn\n",
            "  Resolved https://github.com/openai/whisper.git to commit b5851c6c40e753606765ac45b85b298e3ae9e00d\n",
            "  Installing build dependencies ... \u001b[?25l\u001b[?25hdone\n",
            "  Getting requirements to build wheel ... \u001b[?25l\u001b[?25hdone\n",
            "  Preparing metadata (pyproject.toml) ... \u001b[?25l\u001b[?25hdone\n",
            "Requirement already satisfied: numpy in /usr/local/lib/python3.9/dist-packages (from openai-whisper==20230314) (1.22.4)\n",
            "Collecting triton==2.0.0\n",
            "  Downloading triton-2.0.0-1-cp39-cp39-manylinux2014_x86_64.manylinux_2_17_x86_64.whl (63.3 MB)\n",
            "\u001b[2K     \u001b[90m━━━━━━━━━━━━━━━━━━━━━━━━━━━━━━━━━━━━━━━━\u001b[0m \u001b[32m63.3/63.3 MB\u001b[0m \u001b[31m12.8 MB/s\u001b[0m eta \u001b[36m0:00:00\u001b[0m\n",
            "\u001b[?25hRequirement already satisfied: more-itertools in /usr/local/lib/python3.9/dist-packages (from openai-whisper==20230314) (9.1.0)\n",
            "Requirement already satisfied: tqdm in /usr/local/lib/python3.9/dist-packages (from openai-whisper==20230314) (4.65.0)\n",
            "Requirement already satisfied: torch in /usr/local/lib/python3.9/dist-packages (from openai-whisper==20230314) (1.13.1+cu116)\n",
            "Collecting tiktoken==0.3.1\n",
            "  Downloading tiktoken-0.3.1-cp39-cp39-manylinux_2_17_x86_64.manylinux2014_x86_64.whl (1.7 MB)\n",
            "\u001b[2K     \u001b[90m━━━━━━━━━━━━━━━━━━━━━━━━━━━━━━━━━━━━━━━━\u001b[0m \u001b[32m1.7/1.7 MB\u001b[0m \u001b[31m81.2 MB/s\u001b[0m eta \u001b[36m0:00:00\u001b[0m\n",
            "\u001b[?25hRequirement already satisfied: numba in /usr/local/lib/python3.9/dist-packages (from openai-whisper==20230314) (0.56.4)\n",
            "Collecting ffmpeg-python==0.2.0\n",
            "  Downloading ffmpeg_python-0.2.0-py3-none-any.whl (25 kB)\n",
            "Requirement already satisfied: future in /usr/local/lib/python3.9/dist-packages (from ffmpeg-python==0.2.0->openai-whisper==20230314) (0.18.3)\n",
            "Requirement already satisfied: regex>=2022.1.18 in /usr/local/lib/python3.9/dist-packages (from tiktoken==0.3.1->openai-whisper==20230314) (2022.10.31)\n",
            "Requirement already satisfied: requests>=2.26.0 in /usr/local/lib/python3.9/dist-packages (from tiktoken==0.3.1->openai-whisper==20230314) (2.27.1)\n",
            "Requirement already satisfied: cmake in /usr/local/lib/python3.9/dist-packages (from triton==2.0.0->openai-whisper==20230314) (3.25.2)\n",
            "Requirement already satisfied: filelock in /usr/local/lib/python3.9/dist-packages (from triton==2.0.0->openai-whisper==20230314) (3.10.7)\n",
            "Collecting lit\n",
            "  Downloading lit-16.0.0.tar.gz (144 kB)\n",
            "\u001b[2K     \u001b[90m━━━━━━━━━━━━━━━━━━━━━━━━━━━━━━━━━━━━━━\u001b[0m \u001b[32m145.0/145.0 KB\u001b[0m \u001b[31m13.9 MB/s\u001b[0m eta \u001b[36m0:00:00\u001b[0m\n",
            "\u001b[?25h  Preparing metadata (setup.py) ... \u001b[?25l\u001b[?25hdone\n",
            "Requirement already satisfied: setuptools in /usr/local/lib/python3.9/dist-packages (from numba->openai-whisper==20230314) (67.6.1)\n",
            "Requirement already satisfied: llvmlite<0.40,>=0.39.0dev0 in /usr/local/lib/python3.9/dist-packages (from numba->openai-whisper==20230314) (0.39.1)\n",
            "Requirement already satisfied: typing-extensions in /usr/local/lib/python3.9/dist-packages (from torch->openai-whisper==20230314) (4.5.0)\n",
            "Requirement already satisfied: idna<4,>=2.5 in /usr/local/lib/python3.9/dist-packages (from requests>=2.26.0->tiktoken==0.3.1->openai-whisper==20230314) (3.4)\n",
            "Requirement already satisfied: urllib3<1.27,>=1.21.1 in /usr/local/lib/python3.9/dist-packages (from requests>=2.26.0->tiktoken==0.3.1->openai-whisper==20230314) (1.26.15)\n",
            "Requirement already satisfied: charset-normalizer~=2.0.0 in /usr/local/lib/python3.9/dist-packages (from requests>=2.26.0->tiktoken==0.3.1->openai-whisper==20230314) (2.0.12)\n",
            "Requirement already satisfied: certifi>=2017.4.17 in /usr/local/lib/python3.9/dist-packages (from requests>=2.26.0->tiktoken==0.3.1->openai-whisper==20230314) (2022.12.7)\n",
            "Building wheels for collected packages: openai-whisper, lit\n",
            "  Building wheel for openai-whisper (pyproject.toml) ... \u001b[?25l\u001b[?25hdone\n",
            "  Created wheel for openai-whisper: filename=openai_whisper-20230314-py3-none-any.whl size=796955 sha256=7095478b2cce53058bda2204d89372f8ac248a0b4f08eadd34b643a9c24c90f3\n",
            "  Stored in directory: /tmp/pip-ephem-wheel-cache-_xhe3zwe/wheels/fe/03/29/e7919208d11b4ab32972cb448bb84a9a675d92cd52c9a48341\n",
            "  Building wheel for lit (setup.py) ... \u001b[?25l\u001b[?25hdone\n",
            "  Created wheel for lit: filename=lit-16.0.0-py3-none-any.whl size=93601 sha256=aceb25cfe3edf0cbf1f69c5b1ffc7e7e0f690f86247a6845eef03701567e0149\n",
            "  Stored in directory: /root/.cache/pip/wheels/c7/ee/80/1520ca86c3557f70e5504b802072f7fc3b0e2147f376b133ed\n",
            "Successfully built openai-whisper lit\n",
            "Installing collected packages: lit, ffmpeg-python, triton, tiktoken, openai-whisper\n",
            "Successfully installed ffmpeg-python-0.2.0 lit-16.0.0 openai-whisper-20230314 tiktoken-0.3.1 triton-2.0.0\n",
            "Looking in indexes: https://pypi.org/simple, https://us-python.pkg.dev/colab-wheels/public/simple/\n",
            "Collecting jiwer\n",
            "  Downloading jiwer-3.0.1-py3-none-any.whl (21 kB)\n",
            "Collecting rapidfuzz==2.13.7\n",
            "  Downloading rapidfuzz-2.13.7-cp39-cp39-manylinux_2_17_x86_64.manylinux2014_x86_64.whl (2.2 MB)\n",
            "\u001b[2K     \u001b[90m━━━━━━━━━━━━━━━━━━━━━━━━━━━━━━━━━━━━━━━━\u001b[0m \u001b[32m2.2/2.2 MB\u001b[0m \u001b[31m38.5 MB/s\u001b[0m eta \u001b[36m0:00:00\u001b[0m\n",
            "\u001b[?25hRequirement already satisfied: click<9.0.0,>=8.1.3 in /usr/local/lib/python3.9/dist-packages (from jiwer) (8.1.3)\n",
            "Installing collected packages: rapidfuzz, jiwer\n",
            "Successfully installed jiwer-3.0.1 rapidfuzz-2.13.7\n"
          ]
        }
      ]
    },
    {
      "cell_type": "code",
      "source": [
        "import whisper\n",
        "\n",
        "model = whisper.load_model(\"base\")\n",
        "result = model.transcribe(\"GoogleImagen.mp4\")\n",
        "print(result['text'])"
      ],
      "metadata": {
        "colab": {
          "base_uri": "https://localhost:8080/"
        },
        "id": "qJwhMsOhJgQm",
        "outputId": "8779282e-17d7-42db-c27f-d4d683ea435b"
      },
      "execution_count": null,
      "outputs": [
        {
          "output_type": "stream",
          "name": "stderr",
          "text": [
            "100%|████████████████████████████████████████| 139M/139M [00:01<00:00, 120MiB/s]\n"
          ]
        },
        {
          "output_type": "stream",
          "name": "stdout",
          "text": [
            " Music Oh! Actually, so as we're talking about synolytics, you're running a number of trials and I'd like to kind of talk about the trials in a second. But within those trials, so there are a couple of synolytic drugs that you're using. I think the satinib and quesitin, I always say. So can you talk about, you know, so you kind of talked about how they worked within Scapp and they targeted these different processes within the, the, the senescent cells kind of. So my vote survival mechanism, yeah. So can you talk a little bit about how that works for these drugs? Well, as I mentioned, there are maybe 40 plus drugs that we know of and more and more are being developed every day. Now that they're medicinal chemists onto this. So there are a lot of synolytics around. We elected the reason we chose some of the drugs that we worked with early, which were just the combination of dissaten of incursaten is one fizzettens another navita clax is another. The reason we chose some of those drugs is that we knew something about their safety profiles, their elimination, half lives and so forth. So we've been elected not to put navita clax into clinical trials, other groups are it, you know, related to its side effect profile and so forth. We, we elected to proceed with the combination of dissaten of incursaten on the one hand and fizzettin on the other and some trials are comparing them, those regimens to each other and placebo. So dissaten of is an agent that's been on the market since it's been on the formulary that physicians could prescribe in the US since 2006. So there it's been around for a long time as a formulary drug. It's used to treat lymphomas and leukemias and it acts and lymphomas and leukemias that are producing bad things the way that synesols do by disabling their defenses against bad things are producing. So, you know, synesols in many respects are like cancer cells that don't divide. And so it just turned out when we did our search based on the Scott network that dissaten of was a key that fit in the law quite well for some of these Scott pathways for particular kinds of synesols mainly mainly, but also it's also a kind of synesol and fat tissue and some others. It we predicted would not work on other synesols like cells that line blood vessels and it didn't. You know, so we're able to predict that by went dramatically back in 2013 when we first developed the strategy. So, it's a natural product. It's in apple peels. It's what makes apple apples taste better. And it targets a number of pathways that are complementary to what dissaten of targets. So the combination gives a broad spread of targets on these on the Scott network and both drugs have short elimination half lives. Disaten of is elimination half life in humans of around four hours and car set in around 11 hours. So the dissaten of is completely gone from a person's body after around three half lives. In other words, 12 hours. And the car set is gone by about 36 hours. So again, we can give these drugs in a hit and run fashion and they're gone and they're not hanging around anymore to cause problems because of their presence. We're not trying to continuously occupy a receptor or inhibit an enzyme. We're trying to get rid of a cell type and once it's gone, it's gone. We don't need the drug around anymore. We need a peak level for, you know, a matter of, you know, a couple of hours. And then we want the drug gone. So that's part of the reason we picked them. Disaten of is normally given for leukemias and lymphomas at the same dose every day. It's given every day to those people as we give once a month, maybe or twice a month for a synthetic effect. So, you know, we're giving and we know the safety profile of the site and we know it's generally, it's not a typical chemotherapy drug. It doesn't act the way that typical chemotherapy drugs do. It acts by inhibiting enzymes that are on these pathways that allow cells to survive that are producing bad things. So it doesn't work the way that a typical chemotherapy drug does. And then Kersetten is a flavonoid. It's a natural product. It's, it's got a lot of things that it acts on, but it acts on these nodes. And again, it's gone once we get rid of it. Fizzatin is closely related to Kersetten. It's got a shorter elimination half life around three hours. So it's gone within 10 hours. It's in strawberries and cucumbers and a whole lot of other things. And again, we know something about its safety profile. And so we elected, because it's got a short elimination half life, and it appears in preclinical studies and also in what we know from about people consuming it, that it doesn't seem to have a lot of side effects. And so we elected to use it as in as on its own as a second strategy for certain kinds of indications in early phase clinical trials. We don't know the results of those trials. They're just beginning. It's very early. We had some preliminary results from a couple of trials, but they're very, very early. And you know, not something anybody should stake anything on. People should not be taking these drugs outside the context of a clinical trial physician should not be prescribing them. We don't know if they're safe. We're messing around with a key fundamental process in life. You know, we don't know what the downsides are going to be. So the main thing we're looking for is in serious conditions where we're using these drugs. Are they safe? That's number one. And then do we get some kind of an effect. And many of these trials are placebo control. They're double blind. So we don't know the results until the trials are over. Right. Your scheduling is like every two weeks or once a month. That's the kind of I roughly the I guess the scheduling of taking the depends on the condition like in a coronavirus, for example, in hospitalized patients, for example, we give it for two days. Because the coronavirus is gone, you know, after a fairly short amount of time. Right. So have you did you look at the kind of bioavailability of the drugs? Do you do anything special to get them into the body? They're they're they're orally active. A lot is known about the pharmacokinetics of dissatenant because it's an approved formulary drug. You know, so that's known much less is known about care satan and fizzatin. But what we're not interested in is steady state drug levels or anything like that. We're not trying to get to a steady state level. And you get to the highest possible peak level for a very short period of time in tissues as opposed to in blood. And then we want the drug to be gone. And that's why we pick drugs that have short elimination half lives. So we're we're, you know, this isn't like a drug like you're developing a drug for high blood pressure where you've got to continuously occupy a receptor for it to work. And you need a steady state blood level. And you've got to know, you know, what those blood levels are because it means something because being in the blood, it's going to be close to the cells that you're targeting to try to reduce blood pressure. And you've got to have a steady level. If the level goes down too much at some point, your blood pressure will go up and you'll get waves of blood pressure. We're not interested in that. We're interested in a hit and run approach. And we're going to get rid of these cells and we want the drug to be gone. So the usual rules about pharmacokinetics go out the window. And what we really want to know and these drugs in testicle absorption is variable as with any kind of drug. And, but, you know, what that's why in the trials, what we want to do is give a dose that we know in preclinical studies is sufficient to kill some of the cells, but is below weight below the toxicity threshold for that drug. So for these drugs before we could use them, we had to do a lot of studies in mice. And the case of is that we had to do studies in monkeys. We had to do, you know, a lot of work in human tissues, et cetera, before the FDA, you know, we had to write a full I and D to the FDA and get permission to use for that. And as a drug, even though it sold as a natural product and people buy it over the counter. And if you're not allowed to study a drug with respect to a disease, unless it's registered as a drug, it could be water. If you're giving it for a disease, you have to register as a drug. Yes, hope that you found the video informative. Please do hit the thumbs up button, subscribe to our channel and hit the bell button for any new video release notifications. Thank you so much for your kind support. I wish you all well and we'll speak to you again soon. you\n"
          ]
        }
      ]
    },
    {
      "cell_type": "code",
      "source": [],
      "metadata": {
        "id": "EFtEStD6MGQZ"
      },
      "execution_count": null,
      "outputs": []
    }
  ],
  "metadata": {
    "kernelspec": {
      "display_name": "Python 3",
      "language": "python",
      "name": "python3"
    },
    "language_info": {
      "codemirror_mode": {
        "name": "ipython",
        "version": 3
      },
      "file_extension": ".py",
      "mimetype": "text/x-python",
      "name": "python",
      "nbconvert_exporter": "python",
      "pygments_lexer": "ipython3",
      "version": "3.6.10"
    },
    "colab": {
      "provenance": [],
      "include_colab_link": true
    },
    "accelerator": "GPU"
  },
  "nbformat": 4,
  "nbformat_minor": 0
}